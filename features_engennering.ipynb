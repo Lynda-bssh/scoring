{
 "cells": [
  {
   "cell_type": "code",
   "execution_count": 47,
   "metadata": {},
   "outputs": [],
   "source": [
    "import numpy as np\n",
    "import pandas as pd\n",
    "import matplotlib.pyplot as plt\n",
    "import seaborn as sns\n",
    "from sklearn.preprocessing import LabelEncoder\n",
    "from sklearn.preprocessing import OneHotEncoder"
   ]
  },
  {
   "cell_type": "code",
   "execution_count": 48,
   "metadata": {},
   "outputs": [],
   "source": [
    "def label_and_one_hot_encoder(df):\n",
    "    cat_columns = df.select_dtypes(include='object').columns\n",
    "    label_encoding_columns = []  # Initialisation en dehors de la boucle\n",
    "    original_columns = df.columns.tolist()  # Pour garder une trace des colonnes originales\n",
    "\n",
    "    for col in cat_columns:\n",
    "        if len(df[col].unique()) >= 4:\n",
    "            label_encoder = LabelEncoder()\n",
    "            df[col] = label_encoder.fit_transform(df[col])\n",
    "            label_encoding_columns.append(col)  # Ajoutez la colonne originale à label_encoding_columns\n",
    "        else:\n",
    "            df = pd.get_dummies(df, columns=[col]) \n",
    "            df[df.select_dtypes('bool').columns] = df.select_dtypes('bool').astype(int)\n",
    "\n",
    "     \n",
    "            label_encoding_columns.extend([c for c in df.columns if c not in original_columns])\n",
    "\n",
    "    return df, label_encoding_columns\n"
   ]
  },
  {
   "cell_type": "code",
   "execution_count": 49,
   "metadata": {},
   "outputs": [],
   "source": [
    "path = './pretraitements_data/'"
   ]
  },
  {
   "cell_type": "markdown",
   "metadata": {},
   "source": [
    "### 1- Encodage Train et test:"
   ]
  },
  {
   "cell_type": "code",
   "execution_count": 50,
   "metadata": {},
   "outputs": [
    {
     "name": "stdout",
     "output_type": "stream",
     "text": [
      "Shape de train avant l'encodage :(246541, 65)\n",
      "Shape de train aprés l'encodage :(246541, 98)\n"
     ]
    }
   ],
   "source": [
    "train = pd.read_csv(path + 'application_train.csv')\n",
    "print(f\"Shape de train avant l'encodage :{train.shape}\")\n",
    "train_encoded, cat_col_train = label_and_one_hot_encoder(train)\n",
    "print(f\"Shape de train aprés l'encodage :{train_encoded.shape}\")\n"
   ]
  },
  {
   "cell_type": "code",
   "execution_count": 51,
   "metadata": {},
   "outputs": [
    {
     "name": "stdout",
     "output_type": "stream",
     "text": [
      "Shape de test avant l'encodage :(40076, 64)\n",
      "Shape de test aprés l'encodage :(40076, 97)\n"
     ]
    }
   ],
   "source": [
    "test = pd.read_csv(path + 'application_test.csv')\n",
    "print(f\"Shape de test avant l'encodage :{test.shape}\")\n",
    "test_encoded, cat_col_test = label_and_one_hot_encoder(test)\n",
    "print(f\"Shape de test aprés l'encodage :{test_encoded.shape}\")"
   ]
  },
  {
   "cell_type": "markdown",
   "metadata": {},
   "source": [
    "### 2- Merge et encodage de bureau et bureau_balance:"
   ]
  },
  {
   "cell_type": "code",
   "execution_count": 52,
   "metadata": {},
   "outputs": [
    {
     "name": "stdout",
     "output_type": "stream",
     "text": [
      "Shape de dataset bureau : (1716428, 12)\n",
      "\n"
     ]
    }
   ],
   "source": [
    "bureau = pd.read_csv(path + \"bureau.csv\")\n",
    "print(f\"Shape de dataset bureau : {bureau.shape}\\n\")"
   ]
  },
  {
   "cell_type": "code",
   "execution_count": 53,
   "metadata": {},
   "outputs": [
    {
     "name": "stdout",
     "output_type": "stream",
     "text": [
      "Shape de dataset bureau apres l'encodage : (1716428, 12)\n",
      "\n"
     ]
    }
   ],
   "source": [
    "bureau_encoded, cat_cols_bureau = label_and_one_hot_encoder(bureau)\n",
    "print(f\"Shape de dataset bureau apres l'encodage : {bureau_encoded.shape}\\n\")"
   ]
  },
  {
   "cell_type": "code",
   "execution_count": 54,
   "metadata": {},
   "outputs": [
    {
     "name": "stdout",
     "output_type": "stream",
     "text": [
      "Shape de dataset bureau_balance : (27299925, 3)\n"
     ]
    }
   ],
   "source": [
    "bureau_balance = pd.read_csv(path + \"bureau_balance.csv\")\n",
    "print(f\"Shape de dataset bureau_balance : {bureau_balance.shape}\")"
   ]
  },
  {
   "cell_type": "code",
   "execution_count": 55,
   "metadata": {},
   "outputs": [
    {
     "name": "stdout",
     "output_type": "stream",
     "text": [
      "Shape de dataset bureau_balance apres l'encodage : (27299925, 3)\n"
     ]
    }
   ],
   "source": [
    "bureau_balance_encoded,cat_cols_b_balance = label_and_one_hot_encoder(bureau_balance)\n",
    "print(f\"Shape de dataset bureau_balance apres l'encodage : {bureau_balance_encoded.shape}\")"
   ]
  },
  {
   "cell_type": "code",
   "execution_count": 56,
   "metadata": {},
   "outputs": [
    {
     "name": "stdout",
     "output_type": "stream",
     "text": [
      "Shape de bureau_balance_aggreger : (817395, 3)\n"
     ]
    }
   ],
   "source": [
    "balance_agg = bureau_balance_encoded.groupby('SK_ID_BUREAU').agg({\n",
    "                                                                'MONTHS_BALANCE' : ['min','max'],\n",
    "                                                                'STATUS': lambda x: x.mode()[0]})\n",
    "\n",
    "balance_agg.columns = [f'{col[0]}_{col[1].upper()}' for col in balance_agg.columns]\n",
    "balance_agg.rename(columns={('STATUS_<LAMBDA>'): 'STATUS_MODE'}, inplace=True)\n",
    "print(f'Shape de bureau_balance_aggreger : {balance_agg.shape}')"
   ]
  },
  {
   "cell_type": "code",
   "execution_count": 57,
   "metadata": {},
   "outputs": [
    {
     "data": {
      "text/html": [
       "<div>\n",
       "<style scoped>\n",
       "    .dataframe tbody tr th:only-of-type {\n",
       "        vertical-align: middle;\n",
       "    }\n",
       "\n",
       "    .dataframe tbody tr th {\n",
       "        vertical-align: top;\n",
       "    }\n",
       "\n",
       "    .dataframe thead th {\n",
       "        text-align: right;\n",
       "    }\n",
       "</style>\n",
       "<table border=\"1\" class=\"dataframe\">\n",
       "  <thead>\n",
       "    <tr style=\"text-align: right;\">\n",
       "      <th></th>\n",
       "      <th>MONTHS_BALANCE_MIN</th>\n",
       "      <th>MONTHS_BALANCE_MAX</th>\n",
       "      <th>STATUS_MODE</th>\n",
       "    </tr>\n",
       "    <tr>\n",
       "      <th>SK_ID_BUREAU</th>\n",
       "      <th></th>\n",
       "      <th></th>\n",
       "      <th></th>\n",
       "    </tr>\n",
       "  </thead>\n",
       "  <tbody>\n",
       "    <tr>\n",
       "      <th>5001709</th>\n",
       "      <td>-96</td>\n",
       "      <td>0</td>\n",
       "      <td>6</td>\n",
       "    </tr>\n",
       "    <tr>\n",
       "      <th>5001710</th>\n",
       "      <td>-82</td>\n",
       "      <td>0</td>\n",
       "      <td>6</td>\n",
       "    </tr>\n",
       "    <tr>\n",
       "      <th>5001711</th>\n",
       "      <td>-3</td>\n",
       "      <td>0</td>\n",
       "      <td>0</td>\n",
       "    </tr>\n",
       "    <tr>\n",
       "      <th>5001712</th>\n",
       "      <td>-18</td>\n",
       "      <td>0</td>\n",
       "      <td>0</td>\n",
       "    </tr>\n",
       "    <tr>\n",
       "      <th>5001713</th>\n",
       "      <td>-21</td>\n",
       "      <td>0</td>\n",
       "      <td>7</td>\n",
       "    </tr>\n",
       "  </tbody>\n",
       "</table>\n",
       "</div>"
      ],
      "text/plain": [
       "              MONTHS_BALANCE_MIN  MONTHS_BALANCE_MAX  STATUS_MODE\n",
       "SK_ID_BUREAU                                                     \n",
       "5001709                      -96                   0            6\n",
       "5001710                      -82                   0            6\n",
       "5001711                       -3                   0            0\n",
       "5001712                      -18                   0            0\n",
       "5001713                      -21                   0            7"
      ]
     },
     "execution_count": 57,
     "metadata": {},
     "output_type": "execute_result"
    }
   ],
   "source": [
    "balance_agg.head()"
   ]
  },
  {
   "cell_type": "code",
   "execution_count": 58,
   "metadata": {},
   "outputs": [
    {
     "name": "stdout",
     "output_type": "stream",
     "text": [
      "shape de bureau_join_bureau_balance:(1716428, 14)\n",
      "Shape de bureau_join_balance apres l'aggregation  :(305811, 20)\n"
     ]
    }
   ],
   "source": [
    "bureau_join_balance = bureau_encoded.join(balance_agg, how='left', on='SK_ID_BUREAU')\n",
    "bureau_join_balance.drop(['SK_ID_BUREAU'], axis=1, inplace= True)\n",
    "print(f\"shape de bureau_join_bureau_balance:{bureau_join_balance.shape}\")\n",
    "bureau_agg = bureau_join_balance.groupby('SK_ID_CURR').agg({\n",
    "                                                            'DAYS_CREDIT': ['min', 'max', 'mean', 'size'],\n",
    "                                                            'CREDIT_DAY_OVERDUE': ['max', 'mean'],\n",
    "                                                            'AMT_CREDIT_MAX_OVERDUE': ['max','mean'],\n",
    "                                                            'CNT_CREDIT_PROLONG': ['max'],\n",
    "                                                            'AMT_CREDIT_SUM': ['max', 'mean', 'sum'],\n",
    "                                                            'AMT_CREDIT_SUM_OVERDUE': ['sum'],\n",
    "                                                            'DAYS_CREDIT_UPDATE': ['mean'],  \n",
    "                                                            'MONTHS_BALANCE_MIN':['min'],\n",
    "                                                            'MONTHS_BALANCE_MAX':['max'],\n",
    "                                                            'STATUS_MODE':['mean'],\n",
    "                                                            #'STATUS_MODE':lambda x: x.mode().iloc[0],\n",
    "                                                            'CREDIT_ACTIVE': lambda x: x.mode()[0],\n",
    "                                                            'CREDIT_CURRENCY': lambda x: x.mode()[0],\n",
    "                                                            'CREDIT_TYPE': lambda x: x.mode()[0] }) \n",
    "  \n",
    "#bureau_agg.columns = [f'{col[0]}_{col[1].upper()}' for col in bureau_agg.columns] \n",
    "bureau_agg.columns = pd.Index(['BURO_' + e[0] + \"_\" + e[1].upper() for e in bureau_agg.columns.tolist()])\n",
    "\n",
    "rename_dict = {col: col.replace('<LAMBDA>', 'MODE') for col in bureau_agg.columns if col.endswith('<LAMBDA>')}\n",
    "bureau_agg.rename(columns=rename_dict, inplace=True)\n",
    "\n",
    "\n",
    "print(f\"Shape de bureau_join_balance apres l'aggregation  :{bureau_agg.shape}\")          "
   ]
  },
  {
   "cell_type": "code",
   "execution_count": 59,
   "metadata": {},
   "outputs": [
    {
     "data": {
      "text/html": [
       "<div>\n",
       "<style scoped>\n",
       "    .dataframe tbody tr th:only-of-type {\n",
       "        vertical-align: middle;\n",
       "    }\n",
       "\n",
       "    .dataframe tbody tr th {\n",
       "        vertical-align: top;\n",
       "    }\n",
       "\n",
       "    .dataframe thead th {\n",
       "        text-align: right;\n",
       "    }\n",
       "</style>\n",
       "<table border=\"1\" class=\"dataframe\">\n",
       "  <thead>\n",
       "    <tr style=\"text-align: right;\">\n",
       "      <th></th>\n",
       "      <th>BURO_DAYS_CREDIT_MIN</th>\n",
       "      <th>BURO_DAYS_CREDIT_MAX</th>\n",
       "      <th>BURO_DAYS_CREDIT_MEAN</th>\n",
       "      <th>BURO_DAYS_CREDIT_SIZE</th>\n",
       "      <th>BURO_CREDIT_DAY_OVERDUE_MAX</th>\n",
       "      <th>BURO_CREDIT_DAY_OVERDUE_MEAN</th>\n",
       "      <th>BURO_AMT_CREDIT_MAX_OVERDUE_MAX</th>\n",
       "      <th>BURO_AMT_CREDIT_MAX_OVERDUE_MEAN</th>\n",
       "      <th>BURO_CNT_CREDIT_PROLONG_MAX</th>\n",
       "      <th>BURO_AMT_CREDIT_SUM_MAX</th>\n",
       "      <th>BURO_AMT_CREDIT_SUM_MEAN</th>\n",
       "      <th>BURO_AMT_CREDIT_SUM_SUM</th>\n",
       "      <th>BURO_AMT_CREDIT_SUM_OVERDUE_SUM</th>\n",
       "      <th>BURO_DAYS_CREDIT_UPDATE_MEAN</th>\n",
       "      <th>BURO_MONTHS_BALANCE_MIN_MIN</th>\n",
       "      <th>BURO_MONTHS_BALANCE_MAX_MAX</th>\n",
       "      <th>BURO_STATUS_MODE_MEAN</th>\n",
       "      <th>BURO_CREDIT_ACTIVE_MODE</th>\n",
       "      <th>BURO_CREDIT_CURRENCY_MODE</th>\n",
       "      <th>BURO_CREDIT_TYPE_MODE</th>\n",
       "    </tr>\n",
       "    <tr>\n",
       "      <th>SK_ID_CURR</th>\n",
       "      <th></th>\n",
       "      <th></th>\n",
       "      <th></th>\n",
       "      <th></th>\n",
       "      <th></th>\n",
       "      <th></th>\n",
       "      <th></th>\n",
       "      <th></th>\n",
       "      <th></th>\n",
       "      <th></th>\n",
       "      <th></th>\n",
       "      <th></th>\n",
       "      <th></th>\n",
       "      <th></th>\n",
       "      <th></th>\n",
       "      <th></th>\n",
       "      <th></th>\n",
       "      <th></th>\n",
       "      <th></th>\n",
       "      <th></th>\n",
       "    </tr>\n",
       "  </thead>\n",
       "  <tbody>\n",
       "    <tr>\n",
       "      <th>100001</th>\n",
       "      <td>0.0</td>\n",
       "      <td>4.0</td>\n",
       "      <td>1.857143</td>\n",
       "      <td>7</td>\n",
       "      <td>0</td>\n",
       "      <td>0.0</td>\n",
       "      <td>0.000</td>\n",
       "      <td>0.000000</td>\n",
       "      <td>0</td>\n",
       "      <td>378000.00</td>\n",
       "      <td>2.076236e+05</td>\n",
       "      <td>1453365.000</td>\n",
       "      <td>0.0</td>\n",
       "      <td>0.000000</td>\n",
       "      <td>-51.0</td>\n",
       "      <td>0.0</td>\n",
       "      <td>3.428571</td>\n",
       "      <td>2</td>\n",
       "      <td>0</td>\n",
       "      <td>6</td>\n",
       "    </tr>\n",
       "    <tr>\n",
       "      <th>100002</th>\n",
       "      <td>0.0</td>\n",
       "      <td>4.0</td>\n",
       "      <td>2.375000</td>\n",
       "      <td>8</td>\n",
       "      <td>0</td>\n",
       "      <td>0.0</td>\n",
       "      <td>5043.645</td>\n",
       "      <td>1050.643125</td>\n",
       "      <td>0</td>\n",
       "      <td>450000.00</td>\n",
       "      <td>1.081319e+05</td>\n",
       "      <td>865055.565</td>\n",
       "      <td>0.0</td>\n",
       "      <td>1.250000</td>\n",
       "      <td>-47.0</td>\n",
       "      <td>0.0</td>\n",
       "      <td>1.250000</td>\n",
       "      <td>2</td>\n",
       "      <td>0</td>\n",
       "      <td>6</td>\n",
       "    </tr>\n",
       "    <tr>\n",
       "      <th>100003</th>\n",
       "      <td>2.0</td>\n",
       "      <td>7.0</td>\n",
       "      <td>3.750000</td>\n",
       "      <td>4</td>\n",
       "      <td>0</td>\n",
       "      <td>0.0</td>\n",
       "      <td>0.000</td>\n",
       "      <td>0.000000</td>\n",
       "      <td>0</td>\n",
       "      <td>810000.00</td>\n",
       "      <td>2.543501e+05</td>\n",
       "      <td>1017400.500</td>\n",
       "      <td>0.0</td>\n",
       "      <td>2.250000</td>\n",
       "      <td>NaN</td>\n",
       "      <td>NaN</td>\n",
       "      <td>NaN</td>\n",
       "      <td>2</td>\n",
       "      <td>0</td>\n",
       "      <td>6</td>\n",
       "    </tr>\n",
       "    <tr>\n",
       "      <th>100004</th>\n",
       "      <td>1.0</td>\n",
       "      <td>4.0</td>\n",
       "      <td>2.500000</td>\n",
       "      <td>2</td>\n",
       "      <td>0</td>\n",
       "      <td>0.0</td>\n",
       "      <td>0.000</td>\n",
       "      <td>0.000000</td>\n",
       "      <td>0</td>\n",
       "      <td>94537.80</td>\n",
       "      <td>9.451890e+04</td>\n",
       "      <td>189037.800</td>\n",
       "      <td>0.0</td>\n",
       "      <td>1.500000</td>\n",
       "      <td>NaN</td>\n",
       "      <td>NaN</td>\n",
       "      <td>NaN</td>\n",
       "      <td>2</td>\n",
       "      <td>0</td>\n",
       "      <td>6</td>\n",
       "    </tr>\n",
       "    <tr>\n",
       "      <th>100005</th>\n",
       "      <td>0.0</td>\n",
       "      <td>1.0</td>\n",
       "      <td>0.333333</td>\n",
       "      <td>3</td>\n",
       "      <td>0</td>\n",
       "      <td>0.0</td>\n",
       "      <td>0.000</td>\n",
       "      <td>0.000000</td>\n",
       "      <td>0</td>\n",
       "      <td>568800.00</td>\n",
       "      <td>2.190420e+05</td>\n",
       "      <td>657126.000</td>\n",
       "      <td>0.0</td>\n",
       "      <td>0.000000</td>\n",
       "      <td>-12.0</td>\n",
       "      <td>0.0</td>\n",
       "      <td>0.000000</td>\n",
       "      <td>0</td>\n",
       "      <td>0</td>\n",
       "      <td>6</td>\n",
       "    </tr>\n",
       "    <tr>\n",
       "      <th>...</th>\n",
       "      <td>...</td>\n",
       "      <td>...</td>\n",
       "      <td>...</td>\n",
       "      <td>...</td>\n",
       "      <td>...</td>\n",
       "      <td>...</td>\n",
       "      <td>...</td>\n",
       "      <td>...</td>\n",
       "      <td>...</td>\n",
       "      <td>...</td>\n",
       "      <td>...</td>\n",
       "      <td>...</td>\n",
       "      <td>...</td>\n",
       "      <td>...</td>\n",
       "      <td>...</td>\n",
       "      <td>...</td>\n",
       "      <td>...</td>\n",
       "      <td>...</td>\n",
       "      <td>...</td>\n",
       "      <td>...</td>\n",
       "    </tr>\n",
       "    <tr>\n",
       "      <th>456249</th>\n",
       "      <td>1.0</td>\n",
       "      <td>7.0</td>\n",
       "      <td>4.461538</td>\n",
       "      <td>13</td>\n",
       "      <td>0</td>\n",
       "      <td>0.0</td>\n",
       "      <td>18945.000</td>\n",
       "      <td>2364.230769</td>\n",
       "      <td>0</td>\n",
       "      <td>765000.00</td>\n",
       "      <td>2.841430e+05</td>\n",
       "      <td>3693858.660</td>\n",
       "      <td>0.0</td>\n",
       "      <td>2.846154</td>\n",
       "      <td>NaN</td>\n",
       "      <td>NaN</td>\n",
       "      <td>NaN</td>\n",
       "      <td>2</td>\n",
       "      <td>0</td>\n",
       "      <td>6</td>\n",
       "    </tr>\n",
       "    <tr>\n",
       "      <th>456250</th>\n",
       "      <td>2.0</td>\n",
       "      <td>3.0</td>\n",
       "      <td>2.333333</td>\n",
       "      <td>3</td>\n",
       "      <td>0</td>\n",
       "      <td>0.0</td>\n",
       "      <td>0.000</td>\n",
       "      <td>0.000000</td>\n",
       "      <td>0</td>\n",
       "      <td>2153110.05</td>\n",
       "      <td>1.028820e+06</td>\n",
       "      <td>3086459.550</td>\n",
       "      <td>0.0</td>\n",
       "      <td>0.000000</td>\n",
       "      <td>-32.0</td>\n",
       "      <td>0.0</td>\n",
       "      <td>6.666667</td>\n",
       "      <td>0</td>\n",
       "      <td>0</td>\n",
       "      <td>6</td>\n",
       "    </tr>\n",
       "    <tr>\n",
       "      <th>456253</th>\n",
       "      <td>2.0</td>\n",
       "      <td>3.0</td>\n",
       "      <td>2.750000</td>\n",
       "      <td>4</td>\n",
       "      <td>0</td>\n",
       "      <td>0.0</td>\n",
       "      <td>0.000</td>\n",
       "      <td>0.000000</td>\n",
       "      <td>0</td>\n",
       "      <td>2250000.00</td>\n",
       "      <td>9.900000e+05</td>\n",
       "      <td>3960000.000</td>\n",
       "      <td>0.0</td>\n",
       "      <td>0.500000</td>\n",
       "      <td>-30.0</td>\n",
       "      <td>0.0</td>\n",
       "      <td>6.250000</td>\n",
       "      <td>0</td>\n",
       "      <td>0</td>\n",
       "      <td>6</td>\n",
       "    </tr>\n",
       "    <tr>\n",
       "      <th>456254</th>\n",
       "      <td>3.0</td>\n",
       "      <td>3.0</td>\n",
       "      <td>3.000000</td>\n",
       "      <td>1</td>\n",
       "      <td>0</td>\n",
       "      <td>0.0</td>\n",
       "      <td>0.000</td>\n",
       "      <td>0.000000</td>\n",
       "      <td>0</td>\n",
       "      <td>45000.00</td>\n",
       "      <td>4.500000e+04</td>\n",
       "      <td>45000.000</td>\n",
       "      <td>0.0</td>\n",
       "      <td>1.000000</td>\n",
       "      <td>-36.0</td>\n",
       "      <td>0.0</td>\n",
       "      <td>6.000000</td>\n",
       "      <td>2</td>\n",
       "      <td>0</td>\n",
       "      <td>6</td>\n",
       "    </tr>\n",
       "    <tr>\n",
       "      <th>456255</th>\n",
       "      <td>1.0</td>\n",
       "      <td>6.0</td>\n",
       "      <td>3.000000</td>\n",
       "      <td>11</td>\n",
       "      <td>0</td>\n",
       "      <td>0.0</td>\n",
       "      <td>25578.000</td>\n",
       "      <td>5480.218636</td>\n",
       "      <td>1</td>\n",
       "      <td>900000.00</td>\n",
       "      <td>3.456290e+05</td>\n",
       "      <td>3801919.500</td>\n",
       "      <td>0.0</td>\n",
       "      <td>1.363636</td>\n",
       "      <td>-76.0</td>\n",
       "      <td>0.0</td>\n",
       "      <td>4.363636</td>\n",
       "      <td>2</td>\n",
       "      <td>0</td>\n",
       "      <td>6</td>\n",
       "    </tr>\n",
       "  </tbody>\n",
       "</table>\n",
       "<p>305811 rows × 20 columns</p>\n",
       "</div>"
      ],
      "text/plain": [
       "            BURO_DAYS_CREDIT_MIN  BURO_DAYS_CREDIT_MAX  BURO_DAYS_CREDIT_MEAN  \\\n",
       "SK_ID_CURR                                                                      \n",
       "100001                       0.0                   4.0               1.857143   \n",
       "100002                       0.0                   4.0               2.375000   \n",
       "100003                       2.0                   7.0               3.750000   \n",
       "100004                       1.0                   4.0               2.500000   \n",
       "100005                       0.0                   1.0               0.333333   \n",
       "...                          ...                   ...                    ...   \n",
       "456249                       1.0                   7.0               4.461538   \n",
       "456250                       2.0                   3.0               2.333333   \n",
       "456253                       2.0                   3.0               2.750000   \n",
       "456254                       3.0                   3.0               3.000000   \n",
       "456255                       1.0                   6.0               3.000000   \n",
       "\n",
       "            BURO_DAYS_CREDIT_SIZE  BURO_CREDIT_DAY_OVERDUE_MAX  \\\n",
       "SK_ID_CURR                                                       \n",
       "100001                          7                            0   \n",
       "100002                          8                            0   \n",
       "100003                          4                            0   \n",
       "100004                          2                            0   \n",
       "100005                          3                            0   \n",
       "...                           ...                          ...   \n",
       "456249                         13                            0   \n",
       "456250                          3                            0   \n",
       "456253                          4                            0   \n",
       "456254                          1                            0   \n",
       "456255                         11                            0   \n",
       "\n",
       "            BURO_CREDIT_DAY_OVERDUE_MEAN  BURO_AMT_CREDIT_MAX_OVERDUE_MAX  \\\n",
       "SK_ID_CURR                                                                  \n",
       "100001                               0.0                            0.000   \n",
       "100002                               0.0                         5043.645   \n",
       "100003                               0.0                            0.000   \n",
       "100004                               0.0                            0.000   \n",
       "100005                               0.0                            0.000   \n",
       "...                                  ...                              ...   \n",
       "456249                               0.0                        18945.000   \n",
       "456250                               0.0                            0.000   \n",
       "456253                               0.0                            0.000   \n",
       "456254                               0.0                            0.000   \n",
       "456255                               0.0                        25578.000   \n",
       "\n",
       "            BURO_AMT_CREDIT_MAX_OVERDUE_MEAN  BURO_CNT_CREDIT_PROLONG_MAX  \\\n",
       "SK_ID_CURR                                                                  \n",
       "100001                              0.000000                            0   \n",
       "100002                           1050.643125                            0   \n",
       "100003                              0.000000                            0   \n",
       "100004                              0.000000                            0   \n",
       "100005                              0.000000                            0   \n",
       "...                                      ...                          ...   \n",
       "456249                           2364.230769                            0   \n",
       "456250                              0.000000                            0   \n",
       "456253                              0.000000                            0   \n",
       "456254                              0.000000                            0   \n",
       "456255                           5480.218636                            1   \n",
       "\n",
       "            BURO_AMT_CREDIT_SUM_MAX  BURO_AMT_CREDIT_SUM_MEAN  \\\n",
       "SK_ID_CURR                                                      \n",
       "100001                    378000.00              2.076236e+05   \n",
       "100002                    450000.00              1.081319e+05   \n",
       "100003                    810000.00              2.543501e+05   \n",
       "100004                     94537.80              9.451890e+04   \n",
       "100005                    568800.00              2.190420e+05   \n",
       "...                             ...                       ...   \n",
       "456249                    765000.00              2.841430e+05   \n",
       "456250                   2153110.05              1.028820e+06   \n",
       "456253                   2250000.00              9.900000e+05   \n",
       "456254                     45000.00              4.500000e+04   \n",
       "456255                    900000.00              3.456290e+05   \n",
       "\n",
       "            BURO_AMT_CREDIT_SUM_SUM  BURO_AMT_CREDIT_SUM_OVERDUE_SUM  \\\n",
       "SK_ID_CURR                                                             \n",
       "100001                  1453365.000                              0.0   \n",
       "100002                   865055.565                              0.0   \n",
       "100003                  1017400.500                              0.0   \n",
       "100004                   189037.800                              0.0   \n",
       "100005                   657126.000                              0.0   \n",
       "...                             ...                              ...   \n",
       "456249                  3693858.660                              0.0   \n",
       "456250                  3086459.550                              0.0   \n",
       "456253                  3960000.000                              0.0   \n",
       "456254                    45000.000                              0.0   \n",
       "456255                  3801919.500                              0.0   \n",
       "\n",
       "            BURO_DAYS_CREDIT_UPDATE_MEAN  BURO_MONTHS_BALANCE_MIN_MIN  \\\n",
       "SK_ID_CURR                                                              \n",
       "100001                          0.000000                        -51.0   \n",
       "100002                          1.250000                        -47.0   \n",
       "100003                          2.250000                          NaN   \n",
       "100004                          1.500000                          NaN   \n",
       "100005                          0.000000                        -12.0   \n",
       "...                                  ...                          ...   \n",
       "456249                          2.846154                          NaN   \n",
       "456250                          0.000000                        -32.0   \n",
       "456253                          0.500000                        -30.0   \n",
       "456254                          1.000000                        -36.0   \n",
       "456255                          1.363636                        -76.0   \n",
       "\n",
       "            BURO_MONTHS_BALANCE_MAX_MAX  BURO_STATUS_MODE_MEAN  \\\n",
       "SK_ID_CURR                                                       \n",
       "100001                              0.0               3.428571   \n",
       "100002                              0.0               1.250000   \n",
       "100003                              NaN                    NaN   \n",
       "100004                              NaN                    NaN   \n",
       "100005                              0.0               0.000000   \n",
       "...                                 ...                    ...   \n",
       "456249                              NaN                    NaN   \n",
       "456250                              0.0               6.666667   \n",
       "456253                              0.0               6.250000   \n",
       "456254                              0.0               6.000000   \n",
       "456255                              0.0               4.363636   \n",
       "\n",
       "            BURO_CREDIT_ACTIVE_MODE  BURO_CREDIT_CURRENCY_MODE  \\\n",
       "SK_ID_CURR                                                       \n",
       "100001                            2                          0   \n",
       "100002                            2                          0   \n",
       "100003                            2                          0   \n",
       "100004                            2                          0   \n",
       "100005                            0                          0   \n",
       "...                             ...                        ...   \n",
       "456249                            2                          0   \n",
       "456250                            0                          0   \n",
       "456253                            0                          0   \n",
       "456254                            2                          0   \n",
       "456255                            2                          0   \n",
       "\n",
       "            BURO_CREDIT_TYPE_MODE  \n",
       "SK_ID_CURR                         \n",
       "100001                          6  \n",
       "100002                          6  \n",
       "100003                          6  \n",
       "100004                          6  \n",
       "100005                          6  \n",
       "...                           ...  \n",
       "456249                          6  \n",
       "456250                          6  \n",
       "456253                          6  \n",
       "456254                          6  \n",
       "456255                          6  \n",
       "\n",
       "[305811 rows x 20 columns]"
      ]
     },
     "execution_count": 59,
     "metadata": {},
     "output_type": "execute_result"
    }
   ],
   "source": [
    "bureau_agg"
   ]
  },
  {
   "cell_type": "code",
   "execution_count": 60,
   "metadata": {},
   "outputs": [
    {
     "data": {
      "text/plain": [
       "BURO_STATUS_MODE_MEAN               56.004853\n",
       "BURO_MONTHS_BALANCE_MAX_MAX         56.004853\n",
       "BURO_MONTHS_BALANCE_MIN_MIN         56.004853\n",
       "BURO_DAYS_CREDIT_MIN                 0.000000\n",
       "BURO_DAYS_CREDIT_MAX                 0.000000\n",
       "BURO_CREDIT_CURRENCY_MODE            0.000000\n",
       "BURO_CREDIT_ACTIVE_MODE              0.000000\n",
       "BURO_DAYS_CREDIT_UPDATE_MEAN         0.000000\n",
       "BURO_AMT_CREDIT_SUM_OVERDUE_SUM      0.000000\n",
       "BURO_AMT_CREDIT_SUM_SUM              0.000000\n",
       "BURO_AMT_CREDIT_SUM_MEAN             0.000000\n",
       "BURO_AMT_CREDIT_SUM_MAX              0.000000\n",
       "BURO_CNT_CREDIT_PROLONG_MAX          0.000000\n",
       "BURO_AMT_CREDIT_MAX_OVERDUE_MEAN     0.000000\n",
       "BURO_AMT_CREDIT_MAX_OVERDUE_MAX      0.000000\n",
       "BURO_CREDIT_DAY_OVERDUE_MEAN         0.000000\n",
       "BURO_CREDIT_DAY_OVERDUE_MAX          0.000000\n",
       "BURO_DAYS_CREDIT_SIZE                0.000000\n",
       "BURO_DAYS_CREDIT_MEAN                0.000000\n",
       "BURO_CREDIT_TYPE_MODE                0.000000\n",
       "dtype: float64"
      ]
     },
     "execution_count": 60,
     "metadata": {},
     "output_type": "execute_result"
    }
   ],
   "source": [
    "messing_values = (bureau_agg.isna().sum()/bureau_agg.shape[0]).sort_values(ascending = False)*100\n",
    "messing_values"
   ]
  },
  {
   "cell_type": "markdown",
   "metadata": {},
   "source": [
    "### 3- Previous_application:"
   ]
  },
  {
   "cell_type": "code",
   "execution_count": 61,
   "metadata": {},
   "outputs": [
    {
     "name": "stdout",
     "output_type": "stream",
     "text": [
      "Shape de previous_application = (1667927, 17)\n"
     ]
    }
   ],
   "source": [
    "previous_app = pd.read_csv(path + 'previous_application.csv')\n",
    "print(f'Shape de previous_application = {previous_app.shape}')\n"
   ]
  },
  {
   "cell_type": "code",
   "execution_count": 62,
   "metadata": {},
   "outputs": [
    {
     "name": "stdout",
     "output_type": "stream",
     "text": [
      "(Shape de previous_application_encoded : (1667927, 23))\n",
      "Shape de previous_application apres l'aggregation  :(338813, 24)\n"
     ]
    }
   ],
   "source": [
    "previous_encoded,cat_cols_previous = label_and_one_hot_encoder(previous_app)\n",
    "print(f\"(Shape de previous_application_encoded : {previous_encoded.shape})\")\n",
    "\n",
    "aggregations = {\n",
    "                'AMT_CREDIT':['mean','min','max'],\n",
    "                'HOUR_APPR_PROCESS_START':['mean'],\n",
    "                'DAYS_DECISION':['mean','min','max'],\n",
    "                'SELLERPLACE_AREA':['mean']\n",
    "    }\n",
    "\n",
    "cat_aggregations = {}\n",
    "for cat in cat_cols_previous:\n",
    "    cat_aggregations[cat] =  lambda x: x.mode()[0],\n",
    "\n",
    "previous_agg = previous_encoded.groupby('SK_ID_CURR').agg({**aggregations,**cat_aggregations})\n",
    "                                                      \n",
    "\n",
    "#previous_agg.columns = [f'{col[0]}_{col[1].upper()}' for col in previous_agg.columns] \n",
    "previous_agg.columns = pd.Index(['PREV_' + e[0] + \"_\" + e[1].upper() for e in previous_agg.columns.tolist()])\n",
    "\n",
    "rename_dict = {col: col.replace('<LAMBDA>', 'MODE') for col in previous_agg.columns if col.endswith('<LAMBDA>')}\n",
    "previous_agg.rename(columns=rename_dict, inplace=True)\n",
    "\n",
    "\n",
    "print(f\"Shape de previous_application apres l'aggregation  :{previous_agg.shape}\") \n"
   ]
  },
  {
   "cell_type": "markdown",
   "metadata": {},
   "source": [
    "### 4- Credit_card_balance:"
   ]
  },
  {
   "cell_type": "code",
   "execution_count": 63,
   "metadata": {},
   "outputs": [
    {
     "name": "stdout",
     "output_type": "stream",
     "text": [
      "Shape de credit_card_balance : (3840312, 12)\n"
     ]
    }
   ],
   "source": [
    "credit_card = pd.read_csv(path + 'credit_card_balance.csv')\n",
    "print(f\"Shape de credit_card_balance : {credit_card.shape}\")"
   ]
  },
  {
   "cell_type": "code",
   "execution_count": 64,
   "metadata": {},
   "outputs": [
    {
     "name": "stdout",
     "output_type": "stream",
     "text": [
      "Shape de credit_card apres l'encodage :(3840312, 12)\n"
     ]
    }
   ],
   "source": [
    "credit_card_encoded, cat_cols_c_card = label_and_one_hot_encoder(credit_card)\n",
    "print(f\"Shape de credit_card apres l'encodage :{credit_card_encoded.shape}\")"
   ]
  },
  {
   "cell_type": "code",
   "execution_count": 65,
   "metadata": {},
   "outputs": [
    {
     "name": "stdout",
     "output_type": "stream",
     "text": [
      "Shape de credit_card_balance apres l'aggregation  :(103558, 26)\n"
     ]
    }
   ],
   "source": [
    "credit_card_agg = credit_card_encoded.groupby('SK_ID_CURR').agg({\n",
    "\n",
    "                            'MONTHS_BALANCE': ['max', 'min', 'size'],\n",
    "                            'AMT_BALANCE' :   ['min', 'max', 'mean'],\n",
    "                            'AMT_CREDIT_LIMIT_ACTUAL' : ['min', 'max', 'mean', 'size'],\n",
    "                            'AMT_DRAWINGS_ATM_CURRENT' : ['max','sum'],\n",
    "                            'AMT_DRAWINGS_CURRENT' : ['max','sum'],\n",
    "                            'AMT_DRAWINGS_OTHER_CURRENT' : ['max','mean','sum'],\n",
    "                            'CNT_DRAWINGS_CURRENT' : ['mean', 'sum','min','max'],\n",
    "                            'NAME_CONTRACT_STATUS':lambda x : x.mode()[0],\n",
    "                            'SK_DPD':         ['max', 'mean'],\n",
    "                            'SK_DPD_DEF':     ['max', 'mean']\n",
    "                            })\n",
    "\n",
    "\n",
    "#credit_card_agg.columns = [f'{col[0]}_{col[1].upper()}' for col in credit_card_agg.columns] \n",
    "credit_card_agg.columns = pd.Index(['CC_' + e[0] + \"_\" + e[1].upper() for e in credit_card_agg.columns.tolist()])\n",
    "\n",
    "rename_dict = {col: col.replace('<LAMBDA>', 'MODE') for col in credit_card_agg.columns if col.endswith('<LAMBDA>')}\n",
    "credit_card_agg.rename(columns=rename_dict, inplace=True)\n",
    "\n",
    "\n",
    "print(f\"Shape de credit_card_balance apres l'aggregation  :{credit_card_agg.shape}\") "
   ]
  },
  {
   "cell_type": "markdown",
   "metadata": {},
   "source": [
    "### 5- Installmenet_payments:"
   ]
  },
  {
   "cell_type": "code",
   "execution_count": 66,
   "metadata": {},
   "outputs": [
    {
     "name": "stdout",
     "output_type": "stream",
     "text": [
      "Shape de installments_payments : (13605401, 9)\n"
     ]
    }
   ],
   "source": [
    "installments_payments = pd.read_csv(path + 'installments_payments.csv')\n",
    "print(f\"Shape de installments_payments : {installments_payments.shape}\")"
   ]
  },
  {
   "cell_type": "code",
   "execution_count": 67,
   "metadata": {},
   "outputs": [
    {
     "name": "stdout",
     "output_type": "stream",
     "text": [
      "Shape installments_payments apres l'aggregation (339587, 15)\n"
     ]
    }
   ],
   "source": [
    "insta_payments_agg = installments_payments.groupby('SK_ID_CURR').agg({\n",
    "                                                                    'NUM_INSTALMENT_VERSION': ['nunique'],\n",
    "                                                                    'NEW_DBD': ['max', 'mean'],\n",
    "                                                                    'NEW_DPD': ['max', 'mean'],\n",
    "                                                                    'NEW_PAYMENT_DIFF': ['max', 'mean'],\n",
    "                                                                    'AMT_INSTALMENT': ['max', 'mean'],\n",
    "                                                                    'NUM_INSTALMENT_NUMBER': ['max', 'mean', 'count'],\n",
    "                                                                    'DAYS_ENTRY_PAYMENT': ['max', 'mean', 'min']})\n",
    "\n",
    "#insta_payments_agg.columns = [f'{col[0]}_{col[1].upper()}' for col in insta_payments_agg.columns] \n",
    "insta_payments_agg.columns = pd.Index(['INSTA_' + e[0] + \"_\" + e[1].upper() for e in insta_payments_agg.columns.tolist()])\n",
    "insta_payments_agg.drop(insta_payments_agg.columns[insta_payments_agg.std(axis=0) == 0], axis=1, inplace=True)\n",
    "print(f\"Shape installments_payments apres l'aggregation {insta_payments_agg.shape}\")"
   ]
  },
  {
   "cell_type": "markdown",
   "metadata": {},
   "source": [
    "### 6- Pos_cash_balance:"
   ]
  },
  {
   "cell_type": "code",
   "execution_count": 68,
   "metadata": {},
   "outputs": [
    {
     "name": "stdout",
     "output_type": "stream",
     "text": [
      "Shape de dataset pos_cash_balance : (10001356, 8)\n"
     ]
    }
   ],
   "source": [
    "pos_cash = pd.read_csv(path + 'pos_cash_balance.csv')\n",
    "print(f\"Shape de dataset pos_cash_balance : {pos_cash.shape}\")"
   ]
  },
  {
   "cell_type": "code",
   "execution_count": 69,
   "metadata": {},
   "outputs": [
    {
     "name": "stdout",
     "output_type": "stream",
     "text": [
      "Shape de credit_card apres l'encodage :(10001356, 8)\n"
     ]
    }
   ],
   "source": [
    "pos_cash_encoded, cat_cols_pos_cash = label_and_one_hot_encoder(pos_cash)\n",
    "print(f\"Shape de credit_card apres l'encodage :{pos_cash_encoded.shape}\")"
   ]
  },
  {
   "cell_type": "code",
   "execution_count": 70,
   "metadata": {},
   "outputs": [
    {
     "name": "stdout",
     "output_type": "stream",
     "text": [
      "Shape de pos_cash_balance apres l'aggregation  :(337252, 11)\n"
     ]
    }
   ],
   "source": [
    "pos_cash_agg = pos_cash_encoded.groupby('SK_ID_CURR').agg({\n",
    "                                                            'MONTHS_BALANCE': ['max',  'min'],\n",
    "                                                            'SK_DPD':         ['mean', 'max'],\n",
    "                                                            'SK_DPD_DEF':     ['mean','max'],\n",
    "                                                            'CNT_INSTALMENT': ['mean', 'min','max'],\n",
    "                                                            'CNT_INSTALMENT_FUTURE' : ['sum'],\n",
    "                                                            'NAME_CONTRACT_STATUS': lambda x : x.mode()[0]})\n",
    "\n",
    "\n",
    "# pos_cash_agg.columns = [f'{col[0]}_{col[1].upper()}' for col in pos_cash_agg.columns] \n",
    "pos_cash_agg.columns = pd.Index(['POS_' + e[0] + \"_\" + e[1].upper() for e in pos_cash_agg.columns.tolist()])\n",
    "\n",
    "rename_dict = {col: col.replace('<LAMBDA>', 'MODE') for col in pos_cash_agg.columns if col.endswith('<LAMBDA>')}\n",
    "pos_cash_agg.rename(columns=rename_dict, inplace=True)\n",
    "\n",
    "\n",
    "print(f\"Shape de pos_cash_balance apres l'aggregation  :{pos_cash_agg.shape}\") \n"
   ]
  },
  {
   "cell_type": "markdown",
   "metadata": {},
   "source": [
    "### 7- Join data with train_application :"
   ]
  },
  {
   "cell_type": "code",
   "execution_count": 71,
   "metadata": {},
   "outputs": [
    {
     "name": "stdout",
     "output_type": "stream",
     "text": [
      "(246541, 118)\n"
     ]
    },
    {
     "data": {
      "text/plain": [
       "SK_ID_CURR                          0\n",
       "TARGET                              0\n",
       "AMT_INCOME_TOTAL                    0\n",
       "AMT_CREDIT                          0\n",
       "AMT_ANNUITY                         0\n",
       "                                ...  \n",
       "BURO_MONTHS_BALANCE_MAX_MAX    160192\n",
       "BURO_STATUS_MODE_MEAN          160192\n",
       "BURO_CREDIT_ACTIVE_MODE          1344\n",
       "BURO_CREDIT_CURRENCY_MODE        1344\n",
       "BURO_CREDIT_TYPE_MODE            1344\n",
       "Length: 118, dtype: int64"
      ]
     },
     "execution_count": 71,
     "metadata": {},
     "output_type": "execute_result"
    }
   ],
   "source": [
    "merge_with_bureau = train_encoded.join(bureau_agg, on  = 'SK_ID_CURR',how = 'left')\n",
    "print(merge_with_bureau.shape)\n",
    "merge_with_bureau.isna().sum()"
   ]
  },
  {
   "cell_type": "code",
   "execution_count": 72,
   "metadata": {},
   "outputs": [
    {
     "data": {
      "text/plain": [
       "(246541, 142)"
      ]
     },
     "execution_count": 72,
     "metadata": {},
     "output_type": "execute_result"
    }
   ],
   "source": [
    "merge_with_prev = merge_with_bureau.join(previous_agg,on = 'SK_ID_CURR',how = 'left' )\n",
    "merge_with_prev.shape"
   ]
  },
  {
   "cell_type": "code",
   "execution_count": 73,
   "metadata": {},
   "outputs": [
    {
     "name": "stdout",
     "output_type": "stream",
     "text": [
      "(246541, 153)\n"
     ]
    },
    {
     "data": {
      "text/plain": [
       "SK_ID_CURR                           0\n",
       "TARGET                               0\n",
       "AMT_INCOME_TOTAL                     0\n",
       "AMT_CREDIT                           0\n",
       "AMT_ANNUITY                          0\n",
       "                                 ...  \n",
       "POS_CNT_INSTALMENT_MEAN          13859\n",
       "POS_CNT_INSTALMENT_MIN           13859\n",
       "POS_CNT_INSTALMENT_MAX           13859\n",
       "POS_CNT_INSTALMENT_FUTURE_SUM    13859\n",
       "POS_NAME_CONTRACT_STATUS_MODE    13859\n",
       "Length: 153, dtype: int64"
      ]
     },
     "execution_count": 73,
     "metadata": {},
     "output_type": "execute_result"
    }
   ],
   "source": [
    "merge_with_pos = merge_with_prev.join(pos_cash_agg,on = 'SK_ID_CURR',how = 'left')\n",
    "print(merge_with_pos.shape)\n",
    "merge_with_pos.isna().sum()"
   ]
  },
  {
   "cell_type": "code",
   "execution_count": 74,
   "metadata": {},
   "outputs": [
    {
     "name": "stdout",
     "output_type": "stream",
     "text": [
      "(246541, 168)\n"
     ]
    },
    {
     "data": {
      "text/plain": [
       "SK_ID_CURR                           0\n",
       "TARGET                               0\n",
       "AMT_INCOME_TOTAL                     0\n",
       "AMT_CREDIT                           0\n",
       "AMT_ANNUITY                          0\n",
       "                                 ...  \n",
       "POS_CNT_INSTALMENT_MEAN          13859\n",
       "POS_CNT_INSTALMENT_MIN           13859\n",
       "POS_CNT_INSTALMENT_MAX           13859\n",
       "POS_CNT_INSTALMENT_FUTURE_SUM    13859\n",
       "POS_NAME_CONTRACT_STATUS_MODE    13859\n",
       "Length: 153, dtype: int64"
      ]
     },
     "execution_count": 74,
     "metadata": {},
     "output_type": "execute_result"
    }
   ],
   "source": [
    "join_with_insta = merge_with_pos.join(insta_payments_agg,on = 'SK_ID_CURR',how = 'left')\n",
    "print(join_with_insta.shape)\n",
    "merge_with_pos.isna().sum()"
   ]
  },
  {
   "cell_type": "code",
   "execution_count": 75,
   "metadata": {},
   "outputs": [
    {
     "name": "stdout",
     "output_type": "stream",
     "text": [
      "(246541, 194)\n"
     ]
    },
    {
     "data": {
      "text/plain": [
       "SK_ID_CURR                           0\n",
       "TARGET                               0\n",
       "AMT_INCOME_TOTAL                     0\n",
       "AMT_CREDIT                           0\n",
       "AMT_ANNUITY                          0\n",
       "                                 ...  \n",
       "CC_NAME_CONTRACT_STATUS_MODE    175801\n",
       "CC_SK_DPD_MAX                   175801\n",
       "CC_SK_DPD_MEAN                  175801\n",
       "CC_SK_DPD_DEF_MAX               175801\n",
       "CC_SK_DPD_DEF_MEAN              175801\n",
       "Length: 194, dtype: int64"
      ]
     },
     "execution_count": 75,
     "metadata": {},
     "output_type": "execute_result"
    }
   ],
   "source": [
    "join_with_credit_card = join_with_insta.join(credit_card_agg,on = 'SK_ID_CURR',how = 'left')\n",
    "print(join_with_credit_card.shape)\n",
    "join_with_credit_card.isna().sum()\n"
   ]
  },
  {
   "cell_type": "code",
   "execution_count": 76,
   "metadata": {},
   "outputs": [],
   "source": [
    "train_df = join_with_credit_card.copy()"
   ]
  },
  {
   "cell_type": "code",
   "execution_count": 77,
   "metadata": {},
   "outputs": [
    {
     "data": {
      "text/plain": [
       "CC_SK_DPD_DEF_MEAN                       0.71307\n",
       "CC_AMT_DRAWINGS_CURRENT_MAX              0.71307\n",
       "CC_MONTHS_BALANCE_MAX                    0.71307\n",
       "CC_MONTHS_BALANCE_MIN                    0.71307\n",
       "CC_MONTHS_BALANCE_SIZE                   0.71307\n",
       "                                          ...   \n",
       "LIVE_REGION_NOT_WORK_REGION_Different    0.00000\n",
       "LIVE_REGION_NOT_WORK_REGION_Same         0.00000\n",
       "REG_CITY_NOT_LIVE_CITY_Different         0.00000\n",
       "REG_CITY_NOT_LIVE_CITY_Same              0.00000\n",
       "FLAG_DOCUMENT_18_Yes                     0.00000\n",
       "Length: 194, dtype: float64"
      ]
     },
     "execution_count": 77,
     "metadata": {},
     "output_type": "execute_result"
    }
   ],
   "source": [
    "messing_rate = (train_df.isna().sum()/train_df.shape[0]).sort_values(ascending = False)\n",
    "messing_rate"
   ]
  },
  {
   "cell_type": "markdown",
   "metadata": {},
   "source": [
    "### 8- Join data with test_application :"
   ]
  },
  {
   "cell_type": "code",
   "execution_count": 78,
   "metadata": {},
   "outputs": [
    {
     "name": "stdout",
     "output_type": "stream",
     "text": [
      "(40076, 117)\n"
     ]
    },
    {
     "data": {
      "text/plain": [
       "SK_ID_CURR                       0\n",
       "AMT_INCOME_TOTAL                 0\n",
       "AMT_CREDIT                       0\n",
       "AMT_ANNUITY                      0\n",
       "NAME_TYPE_SUITE                  0\n",
       "                              ... \n",
       "BURO_MONTHS_BALANCE_MAX_MAX    267\n",
       "BURO_STATUS_MODE_MEAN          267\n",
       "BURO_CREDIT_ACTIVE_MODE        262\n",
       "BURO_CREDIT_CURRENCY_MODE      262\n",
       "BURO_CREDIT_TYPE_MODE          262\n",
       "Length: 117, dtype: int64"
      ]
     },
     "execution_count": 78,
     "metadata": {},
     "output_type": "execute_result"
    }
   ],
   "source": [
    "merge_with_bureau = test_encoded.join(bureau_agg, on  = 'SK_ID_CURR',how = 'left')\n",
    "print(merge_with_bureau.shape)\n",
    "merge_with_bureau.isna().sum()"
   ]
  },
  {
   "cell_type": "code",
   "execution_count": 79,
   "metadata": {},
   "outputs": [
    {
     "data": {
      "text/plain": [
       "(40076, 141)"
      ]
     },
     "execution_count": 79,
     "metadata": {},
     "output_type": "execute_result"
    }
   ],
   "source": [
    "merge_with_prev = merge_with_bureau.join(previous_agg,on = 'SK_ID_CURR',how = 'left' )\n",
    "merge_with_prev.shape"
   ]
  },
  {
   "cell_type": "code",
   "execution_count": 80,
   "metadata": {},
   "outputs": [
    {
     "name": "stdout",
     "output_type": "stream",
     "text": [
      "(40076, 152)\n"
     ]
    },
    {
     "data": {
      "text/plain": [
       "SK_ID_CURR                         0\n",
       "AMT_INCOME_TOTAL                   0\n",
       "AMT_CREDIT                         0\n",
       "AMT_ANNUITY                        0\n",
       "NAME_TYPE_SUITE                    0\n",
       "                                ... \n",
       "POS_CNT_INSTALMENT_MEAN          680\n",
       "POS_CNT_INSTALMENT_MIN           680\n",
       "POS_CNT_INSTALMENT_MAX           680\n",
       "POS_CNT_INSTALMENT_FUTURE_SUM    680\n",
       "POS_NAME_CONTRACT_STATUS_MODE    680\n",
       "Length: 152, dtype: int64"
      ]
     },
     "execution_count": 80,
     "metadata": {},
     "output_type": "execute_result"
    }
   ],
   "source": [
    "merge_with_pos = merge_with_prev.join(pos_cash_agg,on = 'SK_ID_CURR',how = 'left')\n",
    "print(merge_with_pos.shape)\n",
    "merge_with_pos.isna().sum()"
   ]
  },
  {
   "cell_type": "code",
   "execution_count": 81,
   "metadata": {},
   "outputs": [
    {
     "name": "stdout",
     "output_type": "stream",
     "text": [
      "(40076, 167)\n"
     ]
    },
    {
     "data": {
      "text/plain": [
       "SK_ID_CURR                         0\n",
       "AMT_INCOME_TOTAL                   0\n",
       "AMT_CREDIT                         0\n",
       "AMT_ANNUITY                        0\n",
       "NAME_TYPE_SUITE                    0\n",
       "                                ... \n",
       "POS_CNT_INSTALMENT_MEAN          680\n",
       "POS_CNT_INSTALMENT_MIN           680\n",
       "POS_CNT_INSTALMENT_MAX           680\n",
       "POS_CNT_INSTALMENT_FUTURE_SUM    680\n",
       "POS_NAME_CONTRACT_STATUS_MODE    680\n",
       "Length: 152, dtype: int64"
      ]
     },
     "execution_count": 81,
     "metadata": {},
     "output_type": "execute_result"
    }
   ],
   "source": [
    "join_with_insta = merge_with_pos.join(insta_payments_agg,on = 'SK_ID_CURR',how = 'left')\n",
    "print(join_with_insta.shape)\n",
    "merge_with_pos.isna().sum()"
   ]
  },
  {
   "cell_type": "code",
   "execution_count": 82,
   "metadata": {},
   "outputs": [
    {
     "name": "stdout",
     "output_type": "stream",
     "text": [
      "(40076, 193)\n"
     ]
    },
    {
     "data": {
      "text/plain": [
       "SK_ID_CURR                          0\n",
       "AMT_INCOME_TOTAL                    0\n",
       "AMT_CREDIT                          0\n",
       "AMT_ANNUITY                         0\n",
       "NAME_TYPE_SUITE                     0\n",
       "                                ...  \n",
       "CC_NAME_CONTRACT_STATUS_MODE    26114\n",
       "CC_SK_DPD_MAX                   26114\n",
       "CC_SK_DPD_MEAN                  26114\n",
       "CC_SK_DPD_DEF_MAX               26114\n",
       "CC_SK_DPD_DEF_MEAN              26114\n",
       "Length: 193, dtype: int64"
      ]
     },
     "execution_count": 82,
     "metadata": {},
     "output_type": "execute_result"
    }
   ],
   "source": [
    "join_with_credit_card = join_with_insta.join(credit_card_agg,on = 'SK_ID_CURR',how = 'left')\n",
    "print(join_with_credit_card.shape)\n",
    "join_with_credit_card.isna().sum()\n"
   ]
  },
  {
   "cell_type": "code",
   "execution_count": 83,
   "metadata": {},
   "outputs": [],
   "source": [
    "test_df = join_with_credit_card.copy()"
   ]
  },
  {
   "cell_type": "code",
   "execution_count": 84,
   "metadata": {},
   "outputs": [
    {
     "data": {
      "text/plain": [
       "CC_SK_DPD_DEF_MEAN                  0.651612\n",
       "CC_AMT_DRAWINGS_CURRENT_MAX         0.651612\n",
       "CC_MONTHS_BALANCE_MAX               0.651612\n",
       "CC_MONTHS_BALANCE_SIZE              0.651612\n",
       "CC_AMT_BALANCE_MIN                  0.651612\n",
       "                                      ...   \n",
       "LIVE_REGION_NOT_WORK_REGION_Same    0.000000\n",
       "REG_CITY_NOT_LIVE_CITY_Different    0.000000\n",
       "REG_CITY_NOT_LIVE_CITY_Same         0.000000\n",
       "REG_CITY_NOT_WORK_CITY_Different    0.000000\n",
       "FLAG_DOCUMENT_18_Yes                0.000000\n",
       "Length: 193, dtype: float64"
      ]
     },
     "execution_count": 84,
     "metadata": {},
     "output_type": "execute_result"
    }
   ],
   "source": [
    "messing_rate = (test_df.isna().sum()/test_df.shape[0]).sort_values(ascending = False)\n",
    "messing_rate"
   ]
  },
  {
   "cell_type": "code",
   "execution_count": 85,
   "metadata": {},
   "outputs": [
    {
     "data": {
      "text/plain": [
       "((246541, 194), (40076, 193))"
      ]
     },
     "execution_count": 85,
     "metadata": {},
     "output_type": "execute_result"
    }
   ],
   "source": [
    "train_df.shape, test_df.shape"
   ]
  },
  {
   "cell_type": "code",
   "execution_count": null,
   "metadata": {},
   "outputs": [],
   "source": [
    "train_df.to_csv('./Data/Dataset_train_test/data_train.csv',index = None)\n",
    "test_df.to_csv('./Data/Dataset_train_test/data_test.csv',index = None)"
   ]
  }
 ],
 "metadata": {
  "kernelspec": {
   "display_name": "my_env",
   "language": "python",
   "name": "python3"
  },
  "language_info": {
   "codemirror_mode": {
    "name": "ipython",
    "version": 3
   },
   "file_extension": ".py",
   "mimetype": "text/x-python",
   "name": "python",
   "nbconvert_exporter": "python",
   "pygments_lexer": "ipython3",
   "version": "3.8.5"
  },
  "orig_nbformat": 4
 },
 "nbformat": 4,
 "nbformat_minor": 2
}
